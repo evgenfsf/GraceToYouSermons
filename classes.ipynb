{
 "cells": [
  {
   "cell_type": "code",
   "execution_count": 1,
   "metadata": {},
   "outputs": [
    {
     "name": "stderr",
     "output_type": "stream",
     "text": [
      "\u001b[32m2023-09-24 00:39:01.885\u001b[0m | \u001b[1mINFO    \u001b[0m | \u001b[36msermon_downloader\u001b[0m:\u001b[36m__init__\u001b[0m:\u001b[36m28\u001b[0m - \u001b[1mWebDriver started\u001b[0m\n",
      "\u001b[32m2023-09-24 00:39:01.895\u001b[0m | \u001b[1mINFO    \u001b[0m | \u001b[36msermon_downloader\u001b[0m:\u001b[36m__init__\u001b[0m:\u001b[36m30\u001b[0m - \u001b[1mWaiting implicitly for driver to load all elements\u001b[0m\n",
      "\u001b[32m2023-09-24 00:39:05.944\u001b[0m | \u001b[1mINFO    \u001b[0m | \u001b[36msermon_downloader\u001b[0m:\u001b[36m__init__\u001b[0m:\u001b[36m32\u001b[0m - \u001b[1mFinished waiting\u001b[0m\n",
      "\u001b[32m2023-09-24 00:39:06.539\u001b[0m | \u001b[1mINFO    \u001b[0m | \u001b[36msermon_downloader\u001b[0m:\u001b[36m__init__\u001b[0m:\u001b[36m37\u001b[0m - \u001b[1mParser created\u001b[0m\n"
     ]
    }
   ],
   "source": [
    "from sermon_downloader import SermonDownloader\n",
    "from selenium.webdriver.common.by import By\n",
    "from selenium.webdriver.support.wait import WebDriverWait\n",
    "from selenium.webdriver.support import expected_conditions as EC\n",
    "sd = SermonDownloader(debug=True)"
   ]
  },
  {
   "cell_type": "code",
   "execution_count": 2,
   "metadata": {},
   "outputs": [
    {
     "name": "stderr",
     "output_type": "stream",
     "text": [
      "\u001b[32m2023-09-24 00:29:44.537\u001b[0m | \u001b[1mINFO    \u001b[0m | \u001b[36msermon_downloader\u001b[0m:\u001b[36mdownload_book\u001b[0m:\u001b[36m57\u001b[0m - \u001b[1mCreating folder: Ephesians\u001b[0m\n",
      "\u001b[32m2023-09-24 00:29:44.540\u001b[0m | \u001b[1mINFO    \u001b[0m | \u001b[36msermon_downloader\u001b[0m:\u001b[36mdownload_book\u001b[0m:\u001b[36m61\u001b[0m - \u001b[1mPage 0\u001b[0m\n",
      "\u001b[32m2023-09-24 00:29:44.542\u001b[0m | \u001b[1mINFO    \u001b[0m | \u001b[36msermon_downloader\u001b[0m:\u001b[36mdownload_book\u001b[0m:\u001b[36m63\u001b[0m - \u001b[1mDriver get: https://www.gty.org/library/resources/sermons-library/scripture/0?book=49&chapter=0\u001b[0m\n"
     ]
    },
    {
     "ename": "TimeoutException",
     "evalue": "Message: \n",
     "output_type": "error",
     "traceback": [
      "\u001b[1;31m---------------------------------------------------------------------------\u001b[0m",
      "\u001b[1;31mTimeoutException\u001b[0m                          Traceback (most recent call last)",
      "\u001b[1;32mc:\\Users\\bonde\\OneDrive - Forensic Technology\\Documents\\Code\\GraceToYouSermons\\classes.ipynb Cell 2\u001b[0m line \u001b[0;36m1\n\u001b[1;32m----> <a href='vscode-notebook-cell:/c%3A/Users/bonde/OneDrive%20-%20Forensic%20Technology/Documents/Code/GraceToYouSermons/classes.ipynb#X10sZmlsZQ%3D%3D?line=0'>1</a>\u001b[0m sd\u001b[39m.\u001b[39;49mdownload_book(\u001b[39m\"\u001b[39;49m\u001b[39mEphesians\u001b[39;49m\u001b[39m\"\u001b[39;49m)\n",
      "File \u001b[1;32mc:\\Users\\bonde\\OneDrive - Forensic Technology\\Documents\\Code\\GraceToYouSermons\\sermon_downloader.py:65\u001b[0m, in \u001b[0;36mSermonDownloader.download_book\u001b[1;34m(self, name, pg)\u001b[0m\n\u001b[0;32m     63\u001b[0m logger\u001b[39m.\u001b[39minfo(\u001b[39mf\u001b[39m\u001b[39m\"\u001b[39m\u001b[39mDriver get: \u001b[39m\u001b[39m{\u001b[39;00mfull_url\u001b[39m}\u001b[39;00m\u001b[39m\"\u001b[39m)\n\u001b[0;32m     64\u001b[0m \u001b[39mself\u001b[39m\u001b[39m.\u001b[39mdriver\u001b[39m.\u001b[39mget(full_url)\n\u001b[1;32m---> 65\u001b[0m condition \u001b[39m=\u001b[39m WebDriverWait(\u001b[39mself\u001b[39;49m\u001b[39m.\u001b[39;49mdriver, \u001b[39m10\u001b[39;49m)\u001b[39m.\u001b[39;49muntil(EC\u001b[39m.\u001b[39;49murl_to_be(full_url))\n\u001b[0;32m     66\u001b[0m current \u001b[39m=\u001b[39m \u001b[39mself\u001b[39m\u001b[39m.\u001b[39mcurrent_page()\n\u001b[0;32m     67\u001b[0m current\u001b[39m.\u001b[39mdownload()\n",
      "File \u001b[1;32mc:\\Users\\bonde\\AppData\\Local\\Programs\\Python\\Python311\\Lib\\site-packages\\selenium\\webdriver\\support\\wait.py:95\u001b[0m, in \u001b[0;36mWebDriverWait.until\u001b[1;34m(self, method, message)\u001b[0m\n\u001b[0;32m     93\u001b[0m     \u001b[39mif\u001b[39;00m time\u001b[39m.\u001b[39mmonotonic() \u001b[39m>\u001b[39m end_time:\n\u001b[0;32m     94\u001b[0m         \u001b[39mbreak\u001b[39;00m\n\u001b[1;32m---> 95\u001b[0m \u001b[39mraise\u001b[39;00m TimeoutException(message, screen, stacktrace)\n",
      "\u001b[1;31mTimeoutException\u001b[0m: Message: \n"
     ]
    }
   ],
   "source": [
    "sd.download_book(\"Romans\")"
   ]
  },
  {
   "cell_type": "code",
   "execution_count": 4,
   "metadata": {},
   "outputs": [
    {
     "data": {
      "text/plain": [
       "{'Genesis': '1',\n",
       " 'Exodus': '2',\n",
       " 'Joshua': '6',\n",
       " 'Ruth': '8',\n",
       " '1 Samuel': '9',\n",
       " '1 Chronicles': '13',\n",
       " 'Esther': '17',\n",
       " 'Psalm': '19',\n",
       " 'Proverbs': '20',\n",
       " 'Isaiah': '23',\n",
       " 'Jeremiah': '24',\n",
       " 'Ezekiel': '26',\n",
       " 'Daniel': '27',\n",
       " 'Jonah': '32',\n",
       " 'Nahum': '34',\n",
       " 'Habakkuk': '35',\n",
       " 'Zechariah': '38',\n",
       " 'Matthew': '40',\n",
       " 'Mark': '41',\n",
       " 'Luke': '42',\n",
       " 'John': '43',\n",
       " 'Acts': '44',\n",
       " 'Romans': '45',\n",
       " '1 Corinthians': '46',\n",
       " '2 Corinthians': '47',\n",
       " 'Galatians': '48',\n",
       " 'Ephesians': '49',\n",
       " 'Philippians': '50',\n",
       " 'Colossians': '51',\n",
       " '1 Thessalonians': '52',\n",
       " '2 Thessalonians': '53',\n",
       " '1 Timothy': '54',\n",
       " '2 Timothy': '55',\n",
       " 'Titus': '56',\n",
       " 'Philemon': '57',\n",
       " 'Hebrews': '58',\n",
       " 'James': '59',\n",
       " '1 Peter': '60',\n",
       " '2 Peter': '61',\n",
       " '1 John': '62',\n",
       " '2 John': '63',\n",
       " '3 John': '64',\n",
       " 'Jude': '65',\n",
       " 'Revelation': '66'}"
      ]
     },
     "execution_count": 4,
     "metadata": {},
     "output_type": "execute_result"
    }
   ],
   "source": [
    "sd.book_dict"
   ]
  },
  {
   "cell_type": "code",
   "execution_count": null,
   "metadata": {},
   "outputs": [],
   "source": [
    "pagination = sd.parser.find(\"div\", class_=\"col s12 m7\").find(\"ul\", class_=\"pagination\")\n",
    "pagination"
   ]
  },
  {
   "cell_type": "code",
   "execution_count": null,
   "metadata": {},
   "outputs": [],
   "source": [
    "test=sd.driver.find_element(By.CLASS_NAME, \"col.s12.m7\")\n",
    "test.find_element(By.CLASS_NAME, \"pagination\")\n",
    "pagination = sd.GTYParser(test.get_attribute(\"outerHTML\"))\n",
    "pagination\n",
    "\n",
    "    "
   ]
  },
  {
   "cell_type": "code",
   "execution_count": null,
   "metadata": {},
   "outputs": [],
   "source": [
    "pg_n = pagination.find(class_=\"active\").a.string\n",
    "pg_n"
   ]
  },
  {
   "cell_type": "code",
   "execution_count": null,
   "metadata": {},
   "outputs": [],
   "source": [
    "last_chevron = pagination.find(\"i\", class_=\"mdi-navigation-chevron-right\").parent.parent\n",
    "last_chevron"
   ]
  },
  {
   "cell_type": "code",
   "execution_count": null,
   "metadata": {},
   "outputs": [],
   "source": [
    "boxes[0].find(class_=\"title\").span.string\n"
   ]
  }
 ],
 "metadata": {
  "kernelspec": {
   "display_name": "Python 3",
   "language": "python",
   "name": "python3"
  },
  "language_info": {
   "codemirror_mode": {
    "name": "ipython",
    "version": 3
   },
   "file_extension": ".py",
   "mimetype": "text/x-python",
   "name": "python",
   "nbconvert_exporter": "python",
   "pygments_lexer": "ipython3",
   "version": "3.11.5"
  },
  "orig_nbformat": 4
 },
 "nbformat": 4,
 "nbformat_minor": 2
}
