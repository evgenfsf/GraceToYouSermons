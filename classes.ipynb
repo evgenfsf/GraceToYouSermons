{
 "cells": [
  {
   "cell_type": "code",
   "execution_count": 1,
   "metadata": {},
   "outputs": [
    {
     "name": "stderr",
     "output_type": "stream",
     "text": [
      "\u001b[32m2023-09-27 23:56:46.335\u001b[0m | \u001b[1mINFO    \u001b[0m | \u001b[36msermon_downloader\u001b[0m:\u001b[36m__init__\u001b[0m:\u001b[36m28\u001b[0m - \u001b[1mWebDriver started\u001b[0m\n",
      "\u001b[32m2023-09-27 23:56:46.335\u001b[0m | \u001b[1mINFO    \u001b[0m | \u001b[36msermon_downloader\u001b[0m:\u001b[36m__init__\u001b[0m:\u001b[36m30\u001b[0m - \u001b[1mWaiting implicitly for driver to load all elements\u001b[0m\n",
      "\u001b[32m2023-09-27 23:56:49.024\u001b[0m | \u001b[1mINFO    \u001b[0m | \u001b[36msermon_downloader\u001b[0m:\u001b[36m__init__\u001b[0m:\u001b[36m32\u001b[0m - \u001b[1mFinished waiting\u001b[0m\n",
      "\u001b[32m2023-09-27 23:56:49.223\u001b[0m | \u001b[1mINFO    \u001b[0m | \u001b[36msermon_downloader\u001b[0m:\u001b[36m__init__\u001b[0m:\u001b[36m37\u001b[0m - \u001b[1mParser created\u001b[0m\n"
     ]
    }
   ],
   "source": [
    "from sermon_downloader import SermonDownloader, Sermon\n",
    "from selenium.webdriver.common.by import By\n",
    "from selenium.webdriver.support.wait import WebDriverWait\n",
    "from selenium.webdriver.support import expected_conditions as EC\n",
    "sd = SermonDownloader(debug=True)"
   ]
  },
  {
   "cell_type": "code",
   "execution_count": 2,
   "metadata": {},
   "outputs": [],
   "source": [
    "sd.driver.get(\"https://www.gty.org/library/resources/sermons-library/scripture/7?book=42&chapter=0\")"
   ]
  },
  {
   "cell_type": "code",
   "execution_count": 3,
   "metadata": {},
   "outputs": [
    {
     "name": "stderr",
     "output_type": "stream",
     "text": [
      "\u001b[32m2023-09-27 23:57:04.155\u001b[0m | \u001b[1mINFO    \u001b[0m | \u001b[36msermon_downloader\u001b[0m:\u001b[36m__init__\u001b[0m:\u001b[36m37\u001b[0m - \u001b[1mParser created\u001b[0m\n",
      "\u001b[32m2023-09-27 23:57:04.195\u001b[0m | \u001b[1mINFO    \u001b[0m | \u001b[36msermon_downloader\u001b[0m:\u001b[36m__init__\u001b[0m:\u001b[36m37\u001b[0m - \u001b[1mParser created\u001b[0m\n"
     ]
    }
   ],
   "source": [
    "current = sd.current_page()"
   ]
  },
  {
   "cell_type": "code",
   "execution_count": 11,
   "metadata": {},
   "outputs": [
    {
     "data": {
      "text/plain": [
       "'When You Pray Say, \"Father\"'"
      ]
     },
     "execution_count": 11,
     "metadata": {},
     "output_type": "execute_result"
    }
   ],
   "source": [
    "sermon = Sermon(current.content[9])\n",
    "sermon.title"
   ]
  },
  {
   "cell_type": "code",
   "execution_count": 12,
   "metadata": {},
   "outputs": [
    {
     "data": {
      "text/plain": [
       "'Luke 11-2-When You Pray Say- -Father--42-147.mp3'"
      ]
     },
     "execution_count": 12,
     "metadata": {},
     "output_type": "execute_result"
    }
   ],
   "source": [
    "sermon.filename\n",
    "    "
   ]
  },
  {
   "cell_type": "code",
   "execution_count": null,
   "metadata": {},
   "outputs": [],
   "source": [
    "pg_n = pagination.find(class_=\"active\").a.string\n",
    "pg_n"
   ]
  },
  {
   "cell_type": "code",
   "execution_count": null,
   "metadata": {},
   "outputs": [],
   "source": [
    "last_chevron = pagination.find(\"i\", class_=\"mdi-navigation-chevron-right\").parent.parent\n",
    "last_chevron"
   ]
  },
  {
   "cell_type": "code",
   "execution_count": null,
   "metadata": {},
   "outputs": [],
   "source": [
    "boxes[0].find(class_=\"title\").span.string\n"
   ]
  }
 ],
 "metadata": {
  "kernelspec": {
   "display_name": "Python 3",
   "language": "python",
   "name": "python3"
  },
  "language_info": {
   "codemirror_mode": {
    "name": "ipython",
    "version": 3
   },
   "file_extension": ".py",
   "mimetype": "text/x-python",
   "name": "python",
   "nbconvert_exporter": "python",
   "pygments_lexer": "ipython3",
   "version": "3.10.4"
  },
  "orig_nbformat": 4
 },
 "nbformat": 4,
 "nbformat_minor": 2
}
