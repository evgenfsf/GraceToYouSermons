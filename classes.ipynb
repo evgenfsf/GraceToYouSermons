{
 "cells": [
  {
   "cell_type": "code",
   "execution_count": 1,
   "metadata": {},
   "outputs": [],
   "source": [
    "from sermon_downloader import SermonDownloader\n",
    "from selenium.webdriver.common.by import By\n",
    "from selenium.webdriver.support.wait import WebDriverWait\n",
    "from selenium.webdriver.support import expected_conditions as EC"
   ]
  },
  {
   "cell_type": "code",
   "execution_count": 2,
   "metadata": {},
   "outputs": [
    {
     "name": "stderr",
     "output_type": "stream",
     "text": [
      "\u001b[32m2023-09-19 10:31:40.552\u001b[0m | \u001b[1mINFO    \u001b[0m | \u001b[36msermon_downloader\u001b[0m:\u001b[36m__init__\u001b[0m:\u001b[36m24\u001b[0m - \u001b[1mWebDriver started\u001b[0m\n",
      "\u001b[32m2023-09-19 10:31:40.552\u001b[0m | \u001b[1mINFO    \u001b[0m | \u001b[36msermon_downloader\u001b[0m:\u001b[36m__init__\u001b[0m:\u001b[36m26\u001b[0m - \u001b[1mWaiting implicitly for driver to load all elements\u001b[0m\n",
      "\u001b[32m2023-09-19 10:31:42.820\u001b[0m | \u001b[1mINFO    \u001b[0m | \u001b[36msermon_downloader\u001b[0m:\u001b[36m__init__\u001b[0m:\u001b[36m28\u001b[0m - \u001b[1mFinished waiting\u001b[0m\n",
      "\u001b[32m2023-09-19 10:31:42.998\u001b[0m | \u001b[1mINFO    \u001b[0m | \u001b[36msermon_downloader\u001b[0m:\u001b[36m__init__\u001b[0m:\u001b[36m33\u001b[0m - \u001b[1mParser started\u001b[0m\n"
     ]
    }
   ],
   "source": [
    "sd = SermonDownloader(debug=True)"
   ]
  },
  {
   "cell_type": "code",
   "execution_count": 4,
   "metadata": {},
   "outputs": [
    {
     "data": {
      "text/plain": [
       "44"
      ]
     },
     "execution_count": 4,
     "metadata": {},
     "output_type": "execute_result"
    }
   ],
   "source": [
    "selector = sd.driver.find_element(By.CLASS_NAME, \"s8\").find_element(By.TAG_NAME, \"select\")\n",
    "options = selector.find_elements(By.TAG_NAME, \"option\")\n",
    "len(options)"
   ]
  },
  {
   "cell_type": "code",
   "execution_count": 9,
   "metadata": {},
   "outputs": [
    {
     "data": {
      "text/plain": [
       "'Genesis'"
      ]
     },
     "execution_count": 9,
     "metadata": {},
     "output_type": "execute_result"
    }
   ],
   "source": [
    "options[0].get_attribute(\"textContent\")"
   ]
  },
  {
   "cell_type": "code",
   "execution_count": null,
   "metadata": {},
   "outputs": [],
   "source": []
  },
  {
   "cell_type": "code",
   "execution_count": 6,
   "metadata": {},
   "outputs": [
    {
     "data": {
      "text/plain": [
       "[]"
      ]
     },
     "execution_count": 6,
     "metadata": {},
     "output_type": "execute_result"
    }
   ],
   "source": [
    "sd.parser.findAll(class_='gty-asset store-library sermon')\n"
   ]
  },
  {
   "cell_type": "code",
   "execution_count": 4,
   "metadata": {},
   "outputs": [
    {
     "ename": "IndexError",
     "evalue": "list index out of range",
     "output_type": "error",
     "traceback": [
      "\u001b[1;31m---------------------------------------------------------------------------\u001b[0m",
      "\u001b[1;31mIndexError\u001b[0m                                Traceback (most recent call last)",
      "Cell \u001b[1;32mIn[4], line 1\u001b[0m\n\u001b[1;32m----> 1\u001b[0m sermon \u001b[39m=\u001b[39m Sermon(sd\u001b[39m.\u001b[39;49mcurrent_page()\u001b[39m.\u001b[39;49mcontent[\u001b[39m17\u001b[39;49m])\n\u001b[0;32m      2\u001b[0m sermon\u001b[39m.\u001b[39mfilename\n",
      "\u001b[1;31mIndexError\u001b[0m: list index out of range"
     ]
    }
   ],
   "source": [
    "sermon = Sermon(sd.current_page().content[17])\n",
    "sermon.filename"
   ]
  },
  {
   "cell_type": "code",
   "execution_count": null,
   "metadata": {},
   "outputs": [],
   "source": [
    "boxes[0].find(class_=\"title\").span.string\n"
   ]
  }
 ],
 "metadata": {
  "kernelspec": {
   "display_name": "Python 3",
   "language": "python",
   "name": "python3"
  },
  "language_info": {
   "codemirror_mode": {
    "name": "ipython",
    "version": 3
   },
   "file_extension": ".py",
   "mimetype": "text/x-python",
   "name": "python",
   "nbconvert_exporter": "python",
   "pygments_lexer": "ipython3",
   "version": "3.10.4"
  },
  "orig_nbformat": 4
 },
 "nbformat": 4,
 "nbformat_minor": 2
}
