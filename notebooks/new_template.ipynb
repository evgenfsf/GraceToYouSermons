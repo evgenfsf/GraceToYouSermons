{
 "cells": [
  {
   "cell_type": "code",
   "execution_count": 1,
   "id": "53bc917a",
   "metadata": {},
   "outputs": [],
   "source": [
    "from gtysermons.sermon_downloader import SermonDownloader, GTYDriver, GTYParser\n",
    "\n",
    "%load_ext autoreload\n",
    "%autoreload 2"
   ]
  },
  {
   "cell_type": "code",
   "execution_count": null,
   "id": "466c0be3",
   "metadata": {},
   "outputs": [
    {
     "name": "stderr",
     "output_type": "stream",
     "text": [
      "\u001b[32m2025-07-15 14:48:45.151\u001b[0m | \u001b[1mINFO    \u001b[0m | \u001b[36mgtysermons.sermon_downloader\u001b[0m:\u001b[36m__init__\u001b[0m:\u001b[36m21\u001b[0m - \u001b[1mWebDriver started\u001b[0m\n",
      "\u001b[32m2025-07-15 14:48:45.152\u001b[0m | \u001b[1mINFO    \u001b[0m | \u001b[36mgtysermons.sermon_downloader\u001b[0m:\u001b[36m_load_base_page\u001b[0m:\u001b[36m25\u001b[0m - \u001b[1mNavigating to https://www.gty.org/sermons/archive?tab=scripture\u001b[0m\n",
      "\u001b[32m2025-07-15 14:48:45.776\u001b[0m | \u001b[1mINFO    \u001b[0m | \u001b[36mgtysermons.sermon_downloader\u001b[0m:\u001b[36m_load_base_page\u001b[0m:\u001b[36m27\u001b[0m - \u001b[1mWaiting for sermon content to load...\u001b[0m\n",
      "\u001b[32m2025-07-15 14:48:45.777\u001b[0m | \u001b[34m\u001b[1mDEBUG   \u001b[0m | \u001b[36mgtysermons.sermon_downloader\u001b[0m:\u001b[36mwait_for_sermon_content_change\u001b[0m:\u001b[36m32\u001b[0m - \u001b[34m\u001b[1mWaiting for sermon content to change...\u001b[0m\n",
      "\u001b[32m2025-07-15 14:48:45.826\u001b[0m | \u001b[31m\u001b[1mERROR   \u001b[0m | \u001b[36mgtysermons.sermon_downloader\u001b[0m:\u001b[36mhas_changed\u001b[0m:\u001b[36m46\u001b[0m - \u001b[31m\u001b[1mError while checking content change: Message: WebDriver session does not exist, or is not active; For documentation on this error, please visit: https://www.selenium.dev/documentation/webdriver/troubleshooting/errors#invalidsessionidexception\n",
      "Stacktrace:\n",
      "RemoteError@chrome://remote/content/shared/RemoteError.sys.mjs:8:8\n",
      "WebDriverError@chrome://remote/content/shared/webdriver/Errors.sys.mjs:199:5\n",
      "InvalidSessionIDError@chrome://remote/content/shared/webdriver/Errors.sys.mjs:469:5\n",
      "assert.that/<@chrome://remote/content/shared/webdriver/Assert.sys.mjs:559:13\n",
      "assert.session@chrome://remote/content/shared/webdriver/Assert.sys.mjs:37:4\n",
      "despatch@chrome://remote/content/marionette/server.sys.mjs:315:19\n",
      "execute@chrome://remote/content/marionette/server.sys.mjs:289:16\n",
      "onPacket/<@chrome://remote/content/marionette/server.sys.mjs:262:20\n",
      "onPacket@chrome://remote/content/marionette/server.sys.mjs:263:9\n",
      "_onJSONObjectReady/<@chrome://remote/content/marionette/transport.sys.mjs:494:20\n",
      "\u001b[0m\n",
      "\u001b[32m2025-07-15 14:48:46.361\u001b[0m | \u001b[31m\u001b[1mERROR   \u001b[0m | \u001b[36mgtysermons.sermon_downloader\u001b[0m:\u001b[36mhas_changed\u001b[0m:\u001b[36m46\u001b[0m - \u001b[31m\u001b[1mError while checking content change: Message: Failed to decode response from marionette\n",
      "\u001b[0m\n",
      "\u001b[32m2025-07-15 14:48:46.863\u001b[0m | \u001b[31m\u001b[1mERROR   \u001b[0m | \u001b[36mgtysermons.sermon_downloader\u001b[0m:\u001b[36mhas_changed\u001b[0m:\u001b[36m46\u001b[0m - \u001b[31m\u001b[1mError while checking content change: Message: Tried to run command without establishing a connection; For documentation on this error, please visit: https://www.selenium.dev/documentation/webdriver/troubleshooting/errors#invalidsessionidexception\n",
      "\u001b[0m\n",
      "\u001b[32m2025-07-15 14:48:47.364\u001b[0m | \u001b[31m\u001b[1mERROR   \u001b[0m | \u001b[36mgtysermons.sermon_downloader\u001b[0m:\u001b[36mhas_changed\u001b[0m:\u001b[36m46\u001b[0m - \u001b[31m\u001b[1mError while checking content change: Message: Tried to run command without establishing a connection; For documentation on this error, please visit: https://www.selenium.dev/documentation/webdriver/troubleshooting/errors#invalidsessionidexception\n",
      "\u001b[0m\n"
     ]
    },
    {
     "ename": "KeyboardInterrupt",
     "evalue": "",
     "output_type": "error",
     "traceback": [
      "\u001b[31m---------------------------------------------------------------------------\u001b[39m",
      "\u001b[31mKeyboardInterrupt\u001b[39m                         Traceback (most recent call last)",
      "\u001b[36mCell\u001b[39m\u001b[36m \u001b[39m\u001b[32mIn[3]\u001b[39m\u001b[32m, line 1\u001b[39m\n\u001b[32m----> \u001b[39m\u001b[32m1\u001b[39m sd = \u001b[43mSermonDownloader\u001b[49m\u001b[43m(\u001b[49m\u001b[43mdebug\u001b[49m\u001b[43m \u001b[49m\u001b[43m=\u001b[49m\u001b[43m \u001b[49m\u001b[38;5;28;43;01mTrue\u001b[39;49;00m\u001b[43m)\u001b[49m\n\u001b[32m      2\u001b[39m sd.download_book()\n",
      "\u001b[36mFile \u001b[39m\u001b[32m~\\Documents\\Code\\GraceToYouSermons\\GraceToYouSermons\\src\\gtysermons\\sermon_downloader.py:67\u001b[39m, in \u001b[36mSermonDownloader.__init__\u001b[39m\u001b[34m(self, debug)\u001b[39m\n\u001b[32m     66\u001b[39m \u001b[38;5;28;01mdef\u001b[39;00m\u001b[38;5;250m \u001b[39m\u001b[34m__init__\u001b[39m(\u001b[38;5;28mself\u001b[39m, debug=\u001b[38;5;28;01mFalse\u001b[39;00m):\n\u001b[32m---> \u001b[39m\u001b[32m67\u001b[39m     \u001b[38;5;28mself\u001b[39m.driver = \u001b[43mGTYDriver\u001b[49m\u001b[43m(\u001b[49m\u001b[43mdebug\u001b[49m\u001b[43m)\u001b[49m\n\u001b[32m     68\u001b[39m     \u001b[38;5;28mself\u001b[39m.baseurl = \u001b[38;5;28mself\u001b[39m.driver.baseurl\n\u001b[32m     69\u001b[39m     \u001b[38;5;28mself\u001b[39m.book_selector = BookSelector(\u001b[38;5;28mself\u001b[39m.driver.find_element(By.ID, \u001b[33m\"\u001b[39m\u001b[33mbook-filter\u001b[39m\u001b[33m\"\u001b[39m))\n",
      "\u001b[36mFile \u001b[39m\u001b[32m~\\Documents\\Code\\GraceToYouSermons\\GraceToYouSermons\\src\\gtysermons\\sermon_downloader.py:22\u001b[39m, in \u001b[36mGTYDriver.__init__\u001b[39m\u001b[34m(self, debug)\u001b[39m\n\u001b[32m     20\u001b[39m \u001b[38;5;28msuper\u001b[39m().\u001b[34m__init__\u001b[39m(options=options)\n\u001b[32m     21\u001b[39m logger.info(\u001b[33m\"\u001b[39m\u001b[33mWebDriver started\u001b[39m\u001b[33m\"\u001b[39m)\n\u001b[32m---> \u001b[39m\u001b[32m22\u001b[39m \u001b[38;5;28;43mself\u001b[39;49m\u001b[43m.\u001b[49m\u001b[43m_load_base_page\u001b[49m\u001b[43m(\u001b[49m\u001b[43m)\u001b[49m\n",
      "\u001b[36mFile \u001b[39m\u001b[32m~\\Documents\\Code\\GraceToYouSermons\\GraceToYouSermons\\src\\gtysermons\\sermon_downloader.py:28\u001b[39m, in \u001b[36mGTYDriver._load_base_page\u001b[39m\u001b[34m(self)\u001b[39m\n\u001b[32m     26\u001b[39m \u001b[38;5;28mself\u001b[39m.get(\u001b[38;5;28mself\u001b[39m.baseurl)\n\u001b[32m     27\u001b[39m logger.info(\u001b[33m\"\u001b[39m\u001b[33mWaiting for sermon content to load...\u001b[39m\u001b[33m\"\u001b[39m)\n\u001b[32m---> \u001b[39m\u001b[32m28\u001b[39m \u001b[38;5;28;43mself\u001b[39;49m\u001b[43m.\u001b[49m\u001b[43mwait_for_sermon_content_change\u001b[49m\u001b[43m(\u001b[49m\u001b[43m)\u001b[49m\n\u001b[32m     29\u001b[39m logger.info(\u001b[33m\"\u001b[39m\u001b[33mInitial sermon content loaded.\u001b[39m\u001b[33m\"\u001b[39m)\n",
      "\u001b[36mFile \u001b[39m\u001b[32m~\\Documents\\Code\\GraceToYouSermons\\GraceToYouSermons\\src\\gtysermons\\sermon_downloader.py:50\u001b[39m, in \u001b[36mGTYDriver.wait_for_sermon_content_change\u001b[39m\u001b[34m(self, previous_html, timeout)\u001b[39m\n\u001b[32m     47\u001b[39m         \u001b[38;5;28;01mreturn\u001b[39;00m \u001b[38;5;28;01mFalse\u001b[39;00m\n\u001b[32m     49\u001b[39m \u001b[38;5;28;01mtry\u001b[39;00m:\n\u001b[32m---> \u001b[39m\u001b[32m50\u001b[39m     \u001b[43mWebDriverWait\u001b[49m\u001b[43m(\u001b[49m\u001b[38;5;28;43mself\u001b[39;49m\u001b[43m,\u001b[49m\u001b[43m \u001b[49m\u001b[43mtimeout\u001b[49m\u001b[43m)\u001b[49m\u001b[43m.\u001b[49m\u001b[43muntil\u001b[49m\u001b[43m(\u001b[49m\u001b[43mhas_changed\u001b[49m\u001b[43m)\u001b[49m\n\u001b[32m     51\u001b[39m     logger.success(\u001b[33m\"\u001b[39m\u001b[33m✅ Sermon content successfully changed.\u001b[39m\u001b[33m\"\u001b[39m)\n\u001b[32m     52\u001b[39m \u001b[38;5;28;01mexcept\u001b[39;00m \u001b[38;5;167;01mException\u001b[39;00m \u001b[38;5;28;01mas\u001b[39;00m e:\n",
      "\u001b[36mFile \u001b[39m\u001b[32mc:\\Users\\evgen\\Documents\\Code\\GraceToYouSermons\\GraceToYouSermons\\gtysermons\\Lib\\site-packages\\selenium\\webdriver\\support\\wait.py:137\u001b[39m, in \u001b[36mWebDriverWait.until\u001b[39m\u001b[34m(self, method, message)\u001b[39m\n\u001b[32m    135\u001b[39m     \u001b[38;5;28;01mif\u001b[39;00m time.monotonic() > end_time:\n\u001b[32m    136\u001b[39m         \u001b[38;5;28;01mbreak\u001b[39;00m\n\u001b[32m--> \u001b[39m\u001b[32m137\u001b[39m     \u001b[43mtime\u001b[49m\u001b[43m.\u001b[49m\u001b[43msleep\u001b[49m\u001b[43m(\u001b[49m\u001b[38;5;28;43mself\u001b[39;49m\u001b[43m.\u001b[49m\u001b[43m_poll\u001b[49m\u001b[43m)\u001b[49m\n\u001b[32m    138\u001b[39m \u001b[38;5;28;01mraise\u001b[39;00m TimeoutException(message, screen, stacktrace)\n",
      "\u001b[31mKeyboardInterrupt\u001b[39m: "
     ]
    }
   ],
   "source": [
    "sd = SermonDownloader(debug = True)\n",
    "sd.download_book(\"Joshua\")"
   ]
  }
 ],
 "metadata": {
  "kernelspec": {
   "display_name": "gtysermons",
   "language": "python",
   "name": "python3"
  },
  "language_info": {
   "codemirror_mode": {
    "name": "ipython",
    "version": 3
   },
   "file_extension": ".py",
   "mimetype": "text/x-python",
   "name": "python",
   "nbconvert_exporter": "python",
   "pygments_lexer": "ipython3",
   "version": "3.13.0"
  }
 },
 "nbformat": 4,
 "nbformat_minor": 5
}
